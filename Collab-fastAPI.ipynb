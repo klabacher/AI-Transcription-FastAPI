{
  "cells": [
    {
      "cell_type": "code",
      "execution_count": null,
      "metadata": {
        "id": "zR9X42FdTqfX"
      },
      "outputs": [],
      "source": [
        "!apt install git ffmpeg\n",
        "!wget -q -nc https://bin.equinox.io/c/4VmDZdvnKvA/ngrok-stable-linux-amd64.zip\n",
        "import os\n",
        "if os.path.exists('ngrok-stable-linux-amd64.zip'):\n",
        "    print(\"Arquivo zip do ngrok baixado com sucesso.\")\n",
        "    !unzip -qq -n ngrok-stable-linux-amd64.zip\n",
        "    if os.path.exists('./ngrok'):\n",
        "        print(\"ngrok extraído com sucesso.\")\n",
        "    else:\n",
        "        print(\"Erro: ngrok não foi extraído corretamente.\")\n",
        "else:\n",
        "    print(\"Erro: Arquivo zip do ngrok não foi baixado.\")\n",
        "!pip install pyngrok nest_asyncio -q"
      ]
    },
    {
      "cell_type": "code",
      "execution_count": null,
      "metadata": {
        "id": "G8znyP_VT9Tn"
      },
      "outputs": [],
      "source": [
        "!rm -rf AI-Transcription-FastAPI\n",
        "!git clone https://github.com/klabacher/AI-Transcription-FastAPI -b Dev"
      ]
    },
    {
      "cell_type": "code",
      "execution_count": null,
      "metadata": {
        "id": "_YDDMamcUSJD"
      },
      "outputs": [],
      "source": [
        "!pip install -q -r /content/AI-Transcription-FastAPI/requirements.txt\n",
        "!pip uninstall torch torchvision torchaudio -y -q\n",
        "!pip install torch torchvision torchaudio -q --index-url https://download.pytorch.org/whl/cu121"
      ]
    },
    {
      "cell_type": "code",
      "execution_count": null,
      "metadata": {
        "id": "BuXoMKrAaHXo"
      },
      "outputs": [],
      "source": [
        "Token = \"\" # @param {\"type\":\"string\"}\n",
        "import os\n",
        "os.environ['NGROK_AUTH_TOKEN'] = Token\n",
        "os.environ['FORCE_CUDA'] = 'True'"
      ]
    },
    {
      "cell_type": "code",
      "execution_count": null,
      "metadata": {
        "id": "RjdbDgnrVkfQ"
      },
      "outputs": [],
      "source": [
        "import asyncio\n",
        "import uvicorn\n",
        "from pyngrok import ngrok\n",
        "import os\n",
        "from google.colab import userdata\n",
        "import nest_asyncio\n",
        "\n",
        "!pkill ngrok\n",
        "!pkill uvicorn\n",
        "\n",
        "nest_asyncio.apply()\n",
        "try:\n",
        "\n",
        "    ngrok_token = os.environ['NGROK_AUTH_TOKEN']\n",
        "    ngrok.set_auth_token(ngrok_token)\n",
        "except Exception as e:\n",
        "    print(f\"NGROK Error: {e}\")\n",
        "async def start_server():\n",
        "    os.chdir('/content/AI-Transcription-FastAPI')\n",
        "    config = uvicorn.Config(\"main:app\", host=\"0.0.0.0\", port=8000, log_level=\"info\")\n",
        "    server = uvicorn.Server(config)\n",
        "    server_task = asyncio.create_task(server.serve())\n",
        "    public_url_api = ngrok.connect(8000)\n",
        "    print(\"\\n\\n====================================================================\")\n",
        "    print(f\"   API_Link {public_url_api}\")\n",
        "    print(\"====================================================================\")\n",
        "    await server_task\n",
        "try:\n",
        "    asyncio.run(start_server())\n",
        "except KeyboardInterrupt:\n",
        "    print(\"\\nServidor interrompido pelo utilizador.\")\n",
        "    ngrok.kill()"
      ]
    }
  ],
  "metadata": {
    "colab": {
      "provenance": [],
      "gpuType": "T4"
    },
    "kernelspec": {
      "display_name": "Python 3",
      "name": "python3"
    },
    "language_info": {
      "name": "python"
    },
    "accelerator": "GPU"
  },
  "nbformat": 4,
  "nbformat_minor": 0
}
